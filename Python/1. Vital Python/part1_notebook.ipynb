{
 "cells": [
  {
   "cell_type": "code",
   "execution_count": 2,
   "metadata": {},
   "outputs": [],
   "source": [
    "bookstore = 'City Lights'"
   ]
  },
  {
   "cell_type": "code",
   "execution_count": 3,
   "metadata": {},
   "outputs": [
    {
     "ename": "SyntaxError",
     "evalue": "EOL while scanning string literal (Temp/ipykernel_22176/2747506218.py, line 1)",
     "output_type": "error",
     "traceback": [
      "\u001b[1;36m  File \u001b[1;32m\"C:\\Users\\ajimp\\AppData\\Local\\Temp/ipykernel_22176/2747506218.py\"\u001b[1;36m, line \u001b[1;32m1\u001b[0m\n\u001b[1;33m    bookstore = 'City Lights\"\u001b[0m\n\u001b[1;37m                             ^\u001b[0m\n\u001b[1;31mSyntaxError\u001b[0m\u001b[1;31m:\u001b[0m EOL while scanning string literal\n"
     ]
    }
   ],
   "source": [
    "bookstore = 'City Lights\""
   ]
  },
  {
   "cell_type": "code",
   "execution_count": null,
   "metadata": {},
   "outputs": [],
   "source": [
    "bookstore = \"Moe's\""
   ]
  },
  {
   "cell_type": "code",
   "execution_count": null,
   "metadata": {},
   "outputs": [
    {
     "name": "stdout",
     "output_type": "stream",
     "text": [
      "Moe's\n"
     ]
    }
   ],
   "source": [
    "bookstore = 'Moe\\'s'\n",
    "print(bookstore)"
   ]
  },
  {
   "cell_type": "code",
   "execution_count": null,
   "metadata": {},
   "outputs": [
    {
     "name": "stdout",
     "output_type": "stream",
     "text": [
      "HolaSenor.\n"
     ]
    }
   ],
   "source": [
    "# String Concatenation\n",
    "\n",
    "spanish_greeting = 'Hola'\n",
    "print(spanish_greeting + 'Senor.')"
   ]
  },
  {
   "cell_type": "code",
   "execution_count": null,
   "metadata": {},
   "outputs": [
    {
     "name": "stdout",
     "output_type": "stream",
     "text": [
      "Should we greet people with Ciao in North Beach?\n"
     ]
    }
   ],
   "source": [
    "# String Interpolation\n",
    "italian_greeting = 'Ciao'\n",
    "print('Should we greet people with', italian_greeting, 'in North Beach?')"
   ]
  },
  {
   "cell_type": "code",
   "execution_count": null,
   "metadata": {},
   "outputs": [
    {
     "name": "stdout",
     "output_type": "stream",
     "text": [
      "The founder of City Lights Bookstore, Lawrence Ferlinghetti, is now 100 years old.\n"
     ]
    }
   ],
   "source": [
    "owner = 'Lawrence Ferlinghetti'\n",
    "age = 100\n",
    "print('The founder of City Lights Bookstore, {}, is now {} years old.'.format(owner, age))"
   ]
  },
  {
   "cell_type": "code",
   "execution_count": null,
   "metadata": {},
   "outputs": [
    {
     "data": {
      "text/plain": [
       "4"
      ]
     },
     "execution_count": 10,
     "metadata": {},
     "output_type": "execute_result"
    }
   ],
   "source": [
    "# length\n",
    "italian_greeting = 'Ciao'\n",
    "len(italian_greeting)"
   ]
  },
  {
   "cell_type": "code",
   "execution_count": null,
   "metadata": {},
   "outputs": [
    {
     "name": "stdout",
     "output_type": "stream",
     "text": [
      "ahmed AHMED 0\n"
     ]
    }
   ],
   "source": [
    "name = 'Ahmed'\n",
    "name_lower = name.lower()\n",
    "name_upper = name.upper()\n",
    "name_count = name.count('a')\n",
    "print(name_lower, name_upper, name_count)"
   ]
  },
  {
   "cell_type": "code",
   "execution_count": 6,
   "metadata": {},
   "outputs": [
    {
     "name": "stdout",
     "output_type": "stream",
     "text": [
      "Hello, Bob the builder.\n"
     ]
    }
   ],
   "source": [
    "name = input()\n",
    "print('Hello, ' + name + '.')"
   ]
  },
  {
   "cell_type": "code",
   "execution_count": 7,
   "metadata": {},
   "outputs": [
    {
     "name": "stdout",
     "output_type": "stream",
     "text": [
      "How would you rate your day on a scale of 1 to 10?\n",
      "You feel like a 4 today. Thanks for letting me know\n"
     ]
    }
   ],
   "source": [
    "# Activity 3 : Display a question prompting the user to rate their day on a number scale of 1 to 10.\n",
    "\n",
    "print('How would you rate your day on a scale of 1 to 10?')\n",
    "day_rating = input()\n",
    "print('You feel like a ' + day_rating + ' today. Thanks for letting me know')"
   ]
  },
  {
   "cell_type": "code",
   "execution_count": 8,
   "metadata": {},
   "outputs": [
    {
     "data": {
      "text/plain": [
       "bool"
      ]
     },
     "execution_count": 8,
     "metadata": {},
     "output_type": "execute_result"
    }
   ],
   "source": [
    "over_18 = True\n",
    "type(over_18)"
   ]
  },
  {
   "cell_type": "code",
   "execution_count": 9,
   "metadata": {},
   "outputs": [
    {
     "data": {
      "text/plain": [
       "bool"
      ]
     },
     "execution_count": 9,
     "metadata": {},
     "output_type": "execute_result"
    }
   ],
   "source": [
    "over_21 = False\n",
    "type(over_21)"
   ]
  },
  {
   "cell_type": "code",
   "execution_count": 10,
   "metadata": {},
   "outputs": [
    {
     "name": "stdout",
     "output_type": "stream",
     "text": [
      "Welcome to our voting program.\n"
     ]
    }
   ],
   "source": [
    "age = 20\n",
    "if age < 18:\n",
    "  print('You aren\\'t old enough to vote.')\n",
    "else:\n",
    "  print('Welcome to our voting program.')"
   ]
  },
  {
   "cell_type": "code",
   "execution_count": 11,
   "metadata": {},
   "outputs": [
    {
     "name": "stdout",
     "output_type": "stream",
     "text": [
      "Welcome to our voting program.\n"
     ]
    }
   ],
   "source": [
    "if age >= 18:\n",
    "      print('Welcome to our voting program.')\n",
    "else:\n",
    "  print('You aren\\'t old enough to vote.')"
   ]
  },
  {
   "cell_type": "code",
   "execution_count": 14,
   "metadata": {},
   "outputs": [
    {
     "name": "stdout",
     "output_type": "stream",
     "text": [
      "The Least Common Multiple of 24 and 36 is 72 .\n"
     ]
    }
   ],
   "source": [
    "# Activity 4 : Finding the Least Common Multiple (LCM)\n",
    "\n",
    "# Find the Least Common Multiple of Two Divisors\n",
    "first_divisor = 24\n",
    "second_divisor = 36\n",
    "\n",
    "counting = True\n",
    "i = 1\n",
    "while counting:\n",
    "    if i % first_divisor == 0 and i % second_divisor == 0:\n",
    "        print('The Least Common Multiple of', first_divisor, 'and', second_divisor, 'is', i, '.')\n",
    "        break\n",
    "    i += 1\n",
    "        "
   ]
  },
  {
   "cell_type": "code",
   "execution_count": 15,
   "metadata": {},
   "outputs": [
    {
     "data": {
      "text/plain": [
       "15"
      ]
     },
     "execution_count": 15,
     "metadata": {},
     "output_type": "execute_result"
    }
   ],
   "source": [
    "# Evaluating value of 12+3\n",
    "eval('12 + 3')"
   ]
  },
  {
   "cell_type": "code",
   "execution_count": 17,
   "metadata": {},
   "outputs": [
    {
     "name": "stdout",
     "output_type": "stream",
     "text": [
      "3\n",
      "2\n",
      "1\n"
     ]
    }
   ],
   "source": [
    "# for loop\n",
    "for i in range(3, 0, -1):\n",
    "    print(i)"
   ]
  },
  {
   "cell_type": "code",
   "execution_count": 18,
   "metadata": {},
   "outputs": [
    {
     "name": "stdout",
     "output_type": "stream",
     "text": [
      "C\n",
      "o\n",
      "r\n",
      "e\n",
      "y\n",
      "C\n",
      "o\n",
      "r\n",
      "e\n",
      "y\n",
      "C\n",
      "o\n",
      "r\n",
      "e\n",
      "y\n"
     ]
    }
   ],
   "source": [
    "name = 'Corey'\n",
    "for j in range(3):\n",
    "  for i in name:\n",
    "    print(i)"
   ]
  },
  {
   "cell_type": "markdown",
   "metadata": {},
   "source": [
    "# Activity 5: Building Conversational Bots Using Python "
   ]
  },
  {
   "cell_type": "code",
   "execution_count": 21,
   "metadata": {},
   "outputs": [
    {
     "name": "stdout",
     "output_type": "stream",
     "text": [
      "What is your name?\n"
     ]
    }
   ],
   "source": [
    "print('What is your name?') "
   ]
  },
  {
   "cell_type": "code",
   "execution_count": 22,
   "metadata": {},
   "outputs": [
    {
     "name": "stdout",
     "output_type": "stream",
     "text": [
      "Fascinating. Ahmed is my name too.\n"
     ]
    }
   ],
   "source": [
    "name = input() \n",
    "print('Fascinating.', name, 'is my name too.') "
   ]
  },
  {
   "cell_type": "code",
   "execution_count": 23,
   "metadata": {},
   "outputs": [
    {
     "name": "stdout",
     "output_type": "stream",
     "text": [
      "Have you thought about black holes today?\n"
     ]
    }
   ],
   "source": [
    "print('Have you thought about black holes today?')"
   ]
  },
  {
   "cell_type": "code",
   "execution_count": 24,
   "metadata": {},
   "outputs": [
    {
     "name": "stdout",
     "output_type": "stream",
     "text": [
      "I am so glad you said yes . I was thinking the same thing.\n"
     ]
    }
   ],
   "source": [
    "yes_no = input() \n",
    "print('I am so glad you said', yes_no, '. I was thinking the same thing.')"
   ]
  },
  {
   "cell_type": "code",
   "execution_count": 25,
   "metadata": {},
   "outputs": [
    {
     "name": "stdout",
     "output_type": "stream",
     "text": [
      "We're kindred spirits, Ahmed . Talk later.\n"
     ]
    }
   ],
   "source": [
    "print('We\\'re kindred spirits,', name, '. Talk later.')"
   ]
  },
  {
   "cell_type": "code",
   "execution_count": 26,
   "metadata": {},
   "outputs": [
    {
     "name": "stdout",
     "output_type": "stream",
     "text": [
      "How intelligent are you? 0 is very dumb. And 10 is a genius\n",
      "I don't believe you.\n",
      "How bad of a day are you having? 0 is the worst, and 10 is the best.\n",
      "If I was human, I would give you a hug.\n"
     ]
    }
   ],
   "source": [
    "print('How intelligent are you? 0 is very dumb. And 10 is a genius') \n",
    "smarts = input()\n",
    "smarts = int(smarts)\n",
    "if smarts <= 3:\n",
    "    print('I don\\'t believe you.')\n",
    "    print('How bad of a day are you having? 0 is the worst, and 10 is the best.')\n",
    "    day = input()\n",
    "    day = int(day)\n",
    "    if day <= 5:\n",
    "        print('If I was human, I would give you a hug.')\n",
    "    else:\n",
    "        print('Maybe I should try your approach.')\n",
    "elif smarts <= 6:\n",
    "    print('I think you\\'re actually smarter.')\n",
    "    print('How much time do you spend online? 0 is none and 10 is 24 hours a day.')\n",
    "    hours = input()\n",
    "    hours = int(hours)\n",
    "    if hours <= 4:\n",
    "        print('That\\'s the problem.')\n",
    "    else:\n",
    "        print('And I thought it was only me.')\n",
    "elif smarts <= 8:\n",
    "    print('Are you human by chance? Wait. Don\\'t answer that.')\n",
    "    print('How human are you? 0 is not at all and 10 is human all the way.')\n",
    "    human = input()\n",
    "    human = int(human)\n",
    "    if human <= 5:\n",
    "        print('I knew it.')\n",
    "    else:\n",
    "        print('I think this courtship is over.')\n",
    "else:\n",
    "    print('I see... How many operating systems do you run?')\n",
    "    os = input()\n",
    "    os = int(os)\n",
    "    if os <= 2:\n",
    "        print('Good thing you\\'re taking this course.')\n",
    "    else:\n",
    "        print('What is this? A competition?')"
   ]
  }
 ],
 "metadata": {
  "interpreter": {
   "hash": "1322b7a2af51d0ab1cf2ab9f6e87c6f4e00c0af0c7a8e1a056b7fa9a4635e6d9"
  },
  "kernelspec": {
   "display_name": "Python 3.9.0 64-bit",
   "language": "python",
   "name": "python3"
  },
  "language_info": {
   "codemirror_mode": {
    "name": "ipython",
    "version": 3
   },
   "file_extension": ".py",
   "mimetype": "text/x-python",
   "name": "python",
   "nbconvert_exporter": "python",
   "pygments_lexer": "ipython3",
   "version": "3.9.0"
  },
  "orig_nbformat": 4
 },
 "nbformat": 4,
 "nbformat_minor": 2
}
