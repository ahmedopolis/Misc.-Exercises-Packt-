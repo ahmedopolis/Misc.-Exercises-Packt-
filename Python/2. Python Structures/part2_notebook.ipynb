{
 "cells": [
  {
   "cell_type": "code",
   "execution_count": 3,
   "metadata": {},
   "outputs": [
    {
     "name": "stdout",
     "output_type": "stream",
     "text": [
      "['bread', 'milk', 'eggs']\n",
      "bread\n",
      "milk\n",
      "eggs\n"
     ]
    }
   ],
   "source": [
    "# Exercise 2.1: Working with Python Lists\n",
    "shopping = [\"bread\",\"milk\", \"eggs\"]\n",
    "print(shopping)\n",
    "for item in shopping:\n",
    "  print(item) "
   ]
  },
  {
   "cell_type": "code",
   "execution_count": 7,
   "metadata": {},
   "outputs": [
    {
     "name": "stdout",
     "output_type": "stream",
     "text": [
      "5\n",
      "1\n",
      "2\n",
      "3\n",
      "4\n",
      "5\n",
      "6\n"
     ]
    }
   ],
   "source": [
    "# Exercise 2.2: Using a Nested List to Store Data from a Matrix\n",
    "m = [[1, 2, 3], [4, 5, 6]]\n",
    "print(m[1][1])\n",
    "for i in range(len(m)):\n",
    "      for j in range(len(m[i])):\n",
    "            print(m[i][j])"
   ]
  },
  {
   "cell_type": "code",
   "execution_count": 8,
   "metadata": {},
   "outputs": [
    {
     "name": "stdout",
     "output_type": "stream",
     "text": [
      "1\n",
      "2\n",
      "3\n",
      "4\n",
      "5\n",
      "6\n"
     ]
    }
   ],
   "source": [
    "# Continued Exercise 2.2\n",
    "for row in m:\n",
    "      for col in row:\n",
    "        print(col)"
   ]
  },
  {
   "cell_type": "code",
   "execution_count": 14,
   "metadata": {},
   "outputs": [
    {
     "name": "stdout",
     "output_type": "stream",
     "text": [
      "[['John Mckee', 38, 'Sales'], ['Lisa Crawford', 29, 'Marketing'], ['Sujan Patel', 33, 'HR']]\n"
     ]
    }
   ],
   "source": [
    "# Activity 6: Using a Nested List to Store Employee Data\n",
    "employees = [['John Mckee', 38, 'Sales'], ['Lisa Crawford', 29, 'Marketing'], ['Sujan Patel', 33, 'HR']]\n",
    "print(employees)"
   ]
  },
  {
   "cell_type": "code",
   "execution_count": 15,
   "metadata": {},
   "outputs": [
    {
     "name": "stdout",
     "output_type": "stream",
     "text": [
      "['John Mckee', 38, 'Sales']\n",
      "['Lisa Crawford', 29, 'Marketing']\n",
      "['Sujan Patel', 33, 'HR']\n"
     ]
    }
   ],
   "source": [
    "# Activity 6: Using a Nested List to Store Employee Data (Continued)\n",
    "for employee in employees:\n",
    "    print(employee)"
   ]
  },
  {
   "cell_type": "code",
   "execution_count": 16,
   "metadata": {},
   "outputs": [
    {
     "name": "stdout",
     "output_type": "stream",
     "text": [
      "Name: John Mckee\n",
      "Age: 38\n",
      "Department: Sales\n",
      "--------------------\n",
      "Name: Lisa Crawford\n",
      "Age: 29\n",
      "Department: Marketing\n",
      "--------------------\n",
      "Name: Sujan Patel\n",
      "Age: 33\n",
      "Department: HR\n",
      "--------------------\n"
     ]
    }
   ],
   "source": [
    "# Activity 6: Using a Nested List to Store Employee Data (Continued)\n",
    "for employee in employees:\n",
    "    print(\"Name:\", employee[0])\n",
    "    print(\"Age:\", employee[1])\n",
    "    print(\"Department:\", employee[2])\n",
    "    print('-' * 20)"
   ]
  },
  {
   "cell_type": "code",
   "execution_count": 17,
   "metadata": {},
   "outputs": [
    {
     "name": "stdout",
     "output_type": "stream",
     "text": [
      "['Lisa Crawford', 29, 'Marketing']\n",
      "Name: Lisa Crawford\n",
      "Age: 29\n",
      "Department: Marketing\n",
      "--------------------\n"
     ]
    }
   ],
   "source": [
    "# Activity 6: Using a Nested List to Store Employee Data (Continued)\n",
    "employee = employees[1]\n",
    "print(employee)\n",
    "print(\"Name:\", employee[0])\n",
    "print(\"Age:\", employee[1])\n",
    "print(\"Department:\", employee[2])\n",
    "print('-' * 20)"
   ]
  },
  {
   "cell_type": "code",
   "execution_count": 18,
   "metadata": {},
   "outputs": [
    {
     "name": "stdout",
     "output_type": "stream",
     "text": [
      "[[11, 13, 15], [17, 19, 21], [23, 25, 27]]\n"
     ]
    }
   ],
   "source": [
    "# Exercise 2.3: Implementing Matrix Operations (Addition and Subtraction)\n",
    "X = [[1,2,3],[4,5,6],[7,8,9]]\n",
    "Y = [[10,11,12],[13,14,15],[16,17,18]]\n",
    "\n",
    "# Initialize a result placeholder\n",
    "result = [[0,0,0], \n",
    "    [0,0,0], \n",
    "    [0,0,0]]\n",
    "\n",
    "# iterate through rows\n",
    "for i in range(len(X)):  \n",
    "# iterate through columns \n",
    "  for j in range(len(X[0])): \n",
    "    result[i][j] = X[i][j] + Y[i][j] \n",
    "    \n",
    "print(result)"
   ]
  },
  {
   "cell_type": "code",
   "execution_count": null,
   "metadata": {},
   "outputs": [],
   "source": [
    "# Exercise 2.3: Implementing Matrix Operations (Addition and Subtraction) [Continued]\n",
    "\n",
    "X = [[10,11,12],[13,14,15],[16,17,18]]\n",
    "Y = [[1,2,3],[4,5,6],[7,8,9]]\n",
    "# Initialize a result placeholder\n",
    "result = [[0,0,0], \n",
    "    [0,0,0], \n",
    "    [0,0,0]] \n",
    "# iterate through rows \n",
    "for i in range(len(X)):  \n",
    "# iterate through columns \n",
    "  for j in range(len(X[0])): \n",
    "    result[i][j] = X[i][j] - Y[i][j] \n",
    "    \n",
    "print(result)"
   ]
  },
  {
   "cell_type": "code",
   "execution_count": 3,
   "metadata": {},
   "outputs": [
    {
     "name": "stdout",
     "output_type": "stream",
     "text": [
      "[11, 14, 17, 20]\n",
      "[29, 38, 47, 56]\n",
      "[33, 42, 51, 60]\n"
     ]
    }
   ],
   "source": [
    "# Exercise 3.4: Implementing Matrix Operations (Multiplication)\n",
    "X = [[1, 2], [4, 5], [3, 6]]\n",
    "Y = [[1,2,3,4],[5,6,7,8]]\n",
    "\n",
    "result = [[0, 0, 0, 0], [0, 0, 0, 0], [0, 0, 0, 0]] \n",
    "\n",
    "# iterating by row of X \n",
    "for i in range(len(X)): \n",
    "    # iterating by column by Y \n",
    "    for j in range(len(Y[0])): \n",
    "        # iterating by rows of Y\n",
    "        for k in range(len(Y)):\n",
    "            result[i][j] += X[i][k] * Y[k][j] \n",
    "\n",
    "for r in result: \n",
    "    print(r)"
   ]
  },
  {
   "cell_type": "code",
   "execution_count": 6,
   "metadata": {},
   "outputs": [
    {
     "name": "stdout",
     "output_type": "stream",
     "text": [
      "3\n",
      "[1, 2, 3, 4, 5, 6]\n",
      "['oi', 'oi', 'oi']\n"
     ]
    }
   ],
   "source": [
    "# Exercise 2.5: Basic List Operations\n",
    "shopping = [\"bread\",\"milk\", \"eggs\"]\n",
    "\n",
    "print(len(shopping))\n",
    "\n",
    "list1 = [1,2,3]\n",
    "list2 = [4,5,6]\n",
    "final_list = list1 + list2\n",
    "print(final_list)\n",
    "\n",
    "list3 = ['oi']\n",
    "print(list3*3)\n"
   ]
  },
  {
   "cell_type": "code",
   "execution_count": 8,
   "metadata": {},
   "outputs": [
    {
     "name": "stdout",
     "output_type": "stream",
     "text": [
      "milk\n",
      "eggs\n"
     ]
    }
   ],
   "source": [
    "# Exercise 2.6: Accessing an Item from Shopping List Data\n",
    "\n",
    "shopping = [\"bread\",\"milk\", \"eggs\"]\n",
    "print(shopping[1])\n",
    "print(shopping[-1])\n"
   ]
  },
  {
   "cell_type": "code",
   "execution_count": 11,
   "metadata": {},
   "outputs": [
    {
     "name": "stdout",
     "output_type": "stream",
     "text": [
      "['bread', 'milk', 'eggs', 'apple']\n",
      "['bread', 'milk', 'eggs', 'apple']\n",
      "['bread', 'milk', 'ham', 'eggs', 'apple']\n"
     ]
    }
   ],
   "source": [
    "# Exercise 2.7: Adding Items to Our Shopping List\n",
    "\n",
    "shopping = [\"bread\",\"milk\", \"eggs\"]\n",
    "shopping.append(\"apple\")\n",
    "print(shopping)\n",
    "\n",
    "shopping = []\n",
    "shopping.append('bread')\n",
    "shopping.append('milk')\n",
    "shopping.append('eggs')\n",
    "shopping.append('apple')\n",
    "print(shopping)\n",
    "\n",
    "shopping.insert(2, 'ham') \n",
    "print(shopping)"
   ]
  },
  {
   "cell_type": "code",
   "execution_count": 15,
   "metadata": {},
   "outputs": [
    {
     "name": "stdout",
     "output_type": "stream",
     "text": [
      "1972\n",
      "9.25\n",
      "{'title': 'The Godfather', 'director': 'Francis Ford Coppola', 'year': 1972, 'rating': 9.2, 'actors': ['Marlon Brando', 'Al Pacino', 'James Caan'], 'other_details': {'runtime': 175, 'language': 'English'}}\n"
     ]
    }
   ],
   "source": [
    "#Exercise 2.8: Using a Dictionary to Store a Movie Record\n",
    "movie = {\n",
    "  \"title\": \"The Godfather\",\n",
    "  \"director\": \"Francis Ford Coppola\",\n",
    "  \"year\": 1972,\n",
    "  \"rating\": 9.2\n",
    "}\n",
    "\n",
    "print(movie['year'])\n",
    "\n",
    "movie['rating'] = (movie['rating'] + 9.3)/2\n",
    "print(movie['rating'])\n",
    "\n",
    "movie = {}\n",
    "movie['title'] = \"The Godfather\"\n",
    "movie['director'] = \"Francis Ford Coppola\"\n",
    "movie['year'] = 1972\n",
    "movie['rating'] = 9.2\n",
    "\n",
    "movie['actors'] = ['Marlon Brando', 'Al Pacino', 'James Caan']\n",
    "movie['other_details'] = {\n",
    "  'runtime': 175,\n",
    "  'language': 'English'\n",
    "}\n",
    "print(movie)"
   ]
  },
  {
   "cell_type": "code",
   "execution_count": 30,
   "metadata": {},
   "outputs": [
    {
     "name": "stdout",
     "output_type": "stream",
     "text": [
      "Name: John Mckee\n",
      "Age: 38\n",
      "Department: Sales\n",
      "____________________\n",
      "Name: Lisa Crawford\n",
      "Age: 29\n",
      "Department: Marketing\n",
      "____________________\n",
      "Name: Sujan Patel\n",
      "Age: 33\n",
      "Department: HR\n",
      "____________________\n",
      "Name: Sujan Patel\n",
      "Age: 33\n",
      "Department: HR\n",
      "--------------------\n"
     ]
    }
   ],
   "source": [
    "# Activity 7: Storing Company Employee Table Data Using a List and a Dictionary\n",
    "employees = []\n",
    "\n",
    "Employee_1 = { 'Name': 'John Mckee', 'Age': 38, 'Department': 'Sales'}\n",
    "Employee_2 = { 'Name': 'Lisa Crawford', 'Age': 29, 'Department': 'Marketing'}\n",
    "Employee_3 = { 'Name': 'Sujan Patel', 'Age': 33, 'Department': 'HR'}\n",
    "\n",
    "employees.append(Employee_1)\n",
    "employees.append(Employee_2)\n",
    "employees.append(Employee_3)\n",
    "\n",
    "for employee in employees:\n",
    "    print('Name: {}'.format(employee['Name']))\n",
    "    print('Age: {}'.format(employee['Age']))\n",
    "    print('Department: {}'.format(employee['Department']))\n",
    "    print('_' * 20)\n",
    "\n",
    "for employee in employees:\n",
    "    if employee['Name'] == 'Sujan Patel':\n",
    "        print(\"Name:\", employee['Name'])\n",
    "        print(\"Age:\", employee['Age'])\n",
    "        print(\"Department:\", employee['Department'])\n",
    "        print('-' * 20)\n",
    "\n"
   ]
  },
  {
   "cell_type": "code",
   "execution_count": 36,
   "metadata": {},
   "outputs": [
    {
     "name": "stdout",
     "output_type": "stream",
     "text": [
      "<zip object at 0x000001E8BB83FF00>\n",
      "[('apple', 5), ('orange', 3), ('banana', 2)]\n",
      "(('apple', 5), ('orange', 3), ('banana', 2))\n",
      "{'apple': 5, 'orange': 3, 'banana': 2}\n"
     ]
    }
   ],
   "source": [
    "# Exercise 29: Using the zip() Method to Manipulate Dictionaries\n",
    "items = ['apple', 'orange', 'banana']\n",
    "quantity = [5,3,2]\n",
    "\n",
    "orders = zip(items, quantity)\n",
    "print(orders)\n",
    "\n",
    "orders = zip(items,quantity)\n",
    "print(list(orders))\n",
    "\n",
    "orders = zip(items,quantity)\n",
    "print(tuple(orders))\n",
    "\n",
    "orders = zip(items,quantity)\n",
    "print(dict(orders))"
   ]
  },
  {
   "cell_type": "code",
   "execution_count": 38,
   "metadata": {},
   "outputs": [
    {
     "name": "stdout",
     "output_type": "stream",
     "text": [
      "dict_values([5, 3, 2])\n",
      "[5, 3, 2]\n",
      "['apple', 'orange', 'banana']\n",
      "('apple', 5)\n",
      "('orange', 3)\n",
      "('banana', 2)\n"
     ]
    }
   ],
   "source": [
    "# Exercise 30: Accessing a Dictionary Using Dictionary Methods\n",
    "orders = {'apple':5, 'orange':3, 'banana':2}\n",
    "print(orders.values())\n",
    "print(list(orders.values()))\n",
    "\n",
    "print(list(orders.keys()))\n",
    "\n",
    "for tuple in list(orders.items()):\n",
    "      print(tuple)\n"
   ]
  },
  {
   "cell_type": "code",
   "execution_count": 42,
   "metadata": {},
   "outputs": [
    {
     "name": "stdout",
     "output_type": "stream",
     "text": [
      "3\n",
      "('bread', 'milk', 'eggs', 'apple', 'orange')\n",
      "('bread', 'milk', 'eggs')\n",
      "('apple', True, 3)\n",
      "(('apple', 3), ('orange', 2), ('banana', 5))\n"
     ]
    }
   ],
   "source": [
    "# Exercise 31: Exploring Tuple Properties in Our Shopping List\n",
    "t = ('bread', 'milk', 'eggs')\n",
    "print(len(t))\n",
    "\n",
    "#t.append('apple')\n",
    "\n",
    "print(t + ('apple', 'orange'))\n",
    "print(t)\n",
    "\n",
    "t_mixed = 'apple', True, 3\n",
    "print(t_mixed)\n",
    "t_shopping = ('apple',3), ('orange',2), ('banana',5)\n",
    "print(t_shopping)"
   ]
  },
  {
   "cell_type": "code",
   "execution_count": 43,
   "metadata": {},
   "outputs": [
    {
     "name": "stdout",
     "output_type": "stream",
     "text": [
      "{1, 2, 3, 4, 5, 6}\n",
      "{1, 2, 3, 4, 5, 6}\n",
      "{1, 2, 3, 4, 5, 6}\n"
     ]
    }
   ],
   "source": [
    "# Exercise 32: Using Sets in Python\n",
    "s1 = set([1,2,3,4,5,6])\n",
    "print(s1)\n",
    "s2 = set([1,2,2,3,4,4,5,6,6])\n",
    "print(s2)\n",
    "s3 = set([3,4,5,6,6,6,1,1,2])\n",
    "print(s3)\n",
    "\n",
    "s4 = {\"apple\", \"orange\", \"banana\"}\n",
    "print(s4)\n",
    "\n",
    "s4.add('pineapple')\n",
    "print(s4)"
   ]
  },
  {
   "cell_type": "code",
   "execution_count": 48,
   "metadata": {},
   "outputs": [
    {
     "name": "stdout",
     "output_type": "stream",
     "text": [
      "{1, 2, 3, 4, 5, 6}\n",
      "{1, 2, 3, 4, 5, 6}\n",
      "False\n",
      "False\n",
      "True\n",
      "True\n",
      "True\n",
      "False\n",
      "False\n"
     ]
    }
   ],
   "source": [
    "# Exercise 33: Implementing Set Operations\n",
    "s5 = {1,2,3,4}\n",
    "s6 = {3,4,5,6}\n",
    "\n",
    "print(s5 | s6)\n",
    "print(s5.union(s6))\n",
    "\n",
    "print(s5 <= s6)\n",
    "print(s5.issubset(s6))\n",
    "s7 = {1,2,3}\n",
    "s8 = {1,2,3,4,5}\n",
    "print(s7 <= s8)\n",
    "print(s7.issubset(s8))\n",
    "\n",
    "\n",
    "# The first two statements will return False because s5 is not a subset of s6. \n",
    "# The last two statements will return True because s7 is a subset of s8. \n",
    "# Do take note that <= operator is a test for the subset. \n",
    "# A proper subset is the same as a general subset, except that the sets cannot be identical. \n",
    "# You can try it out in a new cell with the following code.\n",
    "\n",
    "print(s7 < s8)\n",
    "s9 = {1,2,3}\n",
    "s10 = {1,2,3}\n",
    "print(s9 < s10)\n",
    "print(s9 < s9)\n",
    "\n",
    "# We can see that s7 is a proper subset of s8 because there are other elements in s8 \n",
    "# apart from all the elements of s7. But s9 is not a subset of s10 because they are identical. \n",
    "# Therefore, a set is not a subset of itself.\n",
    "\n",
    "print(s8 >= s7)\n",
    "print(s8.issuperset(s7))\n",
    "print(s8 > s7)\n",
    "print(s8 > s8)\n",
    "\n",
    "# The first three statements will return True because s8 is the superset of s7 and is also a proper superset of s7.\n",
    "# The last statement will return False because no set can be a proper superset of itself.\n"
   ]
  },
  {
   "cell_type": "code",
   "execution_count": null,
   "metadata": {},
   "outputs": [],
   "source": []
  }
 ],
 "metadata": {
  "interpreter": {
   "hash": "1322b7a2af51d0ab1cf2ab9f6e87c6f4e00c0af0c7a8e1a056b7fa9a4635e6d9"
  },
  "kernelspec": {
   "display_name": "Python 3.9.0 64-bit",
   "language": "python",
   "name": "python3"
  },
  "language_info": {
   "codemirror_mode": {
    "name": "ipython",
    "version": 3
   },
   "file_extension": ".py",
   "mimetype": "text/x-python",
   "name": "python",
   "nbconvert_exporter": "python",
   "pygments_lexer": "ipython3",
   "version": "3.9.0"
  },
  "orig_nbformat": 4
 },
 "nbformat": 4,
 "nbformat_minor": 2
}
