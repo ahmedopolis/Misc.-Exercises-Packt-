{
 "cells": [
  {
   "cell_type": "code",
   "execution_count": 2,
   "metadata": {},
   "outputs": [
    {
     "name": "stdout",
     "output_type": "stream",
     "text": [
      "39921960\n"
     ]
    }
   ],
   "source": [
    "# Exercise 3.4: Writing and Executing out First Script\n",
    "import math\n",
    "numbers = [5, 7, 11]\n",
    "result = sum([math.factorial(n) for n in numbers])\n",
    "print(result)"
   ]
  },
  {
   "cell_type": "code",
   "execution_count": 6,
   "metadata": {},
   "outputs": [
    {
     "data": {
      "text/plain": [
       "[120, 5040, 39916800]"
      ]
     },
     "execution_count": 6,
     "metadata": {},
     "output_type": "execute_result"
    }
   ],
   "source": [
    "# Exercise 35: Writing and Importing our First Module\n",
    "from my_module import compute\n",
    "compute([5, 7, 11])"
   ]
  },
  {
   "cell_type": "code",
   "execution_count": 15,
   "metadata": {},
   "outputs": [],
   "source": [
    "# Exercise 36: Adding a Docstring to my_module.py\n",
    "import my_module\n",
    "#help(my_module)\n",
    "my_module.__doc__\n"
   ]
  },
  {
   "cell_type": "code",
   "execution_count": 22,
   "metadata": {},
   "outputs": [
    {
     "name": "stdout",
     "output_type": "stream",
     "text": [
      "7\n"
     ]
    }
   ],
   "source": [
    "# Exercise 38: The Maximum Number\n",
    "l = [4, 2, 7, 3]\n",
    "maximum = 0 \n",
    "for number in l:\n",
    "    if number > maximum:\n",
    "        maximum = number\n",
    "print(maximum)"
   ]
  },
  {
   "cell_type": "code",
   "execution_count": 25,
   "metadata": {},
   "outputs": [
    {
     "name": "stdout",
     "output_type": "stream",
     "text": [
      "[1, 2, 3, 5, 8]\n"
     ]
    }
   ],
   "source": [
    "# Exercise 39: Using Bubble Sort in Python\n",
    "l = [5, 8, 1, 3, 2]\n",
    "still_swapping = True\n",
    "while still_swapping:\n",
    "    still_swapping = False\n",
    "    for i in range(len(l) - 1):\n",
    "        if l[i] > l[i+1]:\n",
    "            l[i], l[i+1] = l[i+1], l[i]\n",
    "            still_swapping = True\n",
    "print(l)"
   ]
  },
  {
   "cell_type": "code",
   "execution_count": 26,
   "metadata": {},
   "outputs": [
    {
     "name": "stdout",
     "output_type": "stream",
     "text": [
      "1\n"
     ]
    }
   ],
   "source": [
    "# Exercise 40: Linear Search in Python\n",
    "l = [5, 8, 1, 3, 2]\n",
    "search_for = 8\n",
    "result = -1\n",
    "for i in range(len(l)):\n",
    "    if search_for == l[i]:\n",
    "        result = i\n",
    "        break\n",
    "print(result)"
   ]
  },
  {
   "cell_type": "code",
   "execution_count": null,
   "metadata": {},
   "outputs": [],
   "source": [
    "# Exercise 41: Binary Search in Python\n",
    "l = [2, 3, 5, 8, 11, 12, 18]\n",
    "search_for = 11\n",
    "slice_start = 0\n",
    "slice_end = len(l) - 1 \n",
    "found = False\n",
    "while slice_start <= slice_end and not found:\n",
    "    location = (slice_start + slice_end) // 2\n",
    "    if l[location] == search_for:\n",
    "        found = True\n",
    "    else:\n",
    "        if search_for < l[location]:\n",
    "            slice_end = location - 1\n",
    "        else:\n",
    "            slice_start = location + 1\n",
    "print(found)\n",
    "print(location)"
   ]
  },
  {
   "cell_type": "code",
   "execution_count": 30,
   "metadata": {},
   "outputs": [
    {
     "name": "stdout",
     "output_type": "stream",
     "text": [
      "2\n",
      "List was too small\n"
     ]
    }
   ],
   "source": [
    "# Exercise 42: Defining and Calling the Function in Shell\n",
    "def get_second_element(mylist):\n",
    "    if len(mylist) > 1:\n",
    "        return mylist[1]\n",
    "    else:\n",
    "        return 'List was too small'\n",
    "print(get_second_element([1, 2, 3]))\n",
    "print(get_second_element([1]))"
   ]
  },
  {
   "cell_type": "code",
   "execution_count": 7,
   "metadata": {},
   "outputs": [
    {
     "data": {
      "text/plain": [
       "-6"
      ]
     },
     "execution_count": 7,
     "metadata": {},
     "output_type": "execute_result"
    }
   ],
   "source": [
    "# Exercise 43: Defining and Calling the Function in Python Script\n",
    "from multiply import list_product\n",
    "list_product([-1, 2, 3])"
   ]
  },
  {
   "cell_type": "code",
   "execution_count": 8,
   "metadata": {},
   "outputs": [
    {
     "data": {
      "text/plain": [
       "'google.com'"
      ]
     },
     "execution_count": 8,
     "metadata": {},
     "output_type": "execute_result"
    }
   ],
   "source": [
    "# Exercise 45: Defining the Function with Keyword Arguments\n",
    "def add_suffix(suffix='.com'):\n",
    "    return 'google' + suffix\n",
    "add_suffix()"
   ]
  },
  {
   "cell_type": "code",
   "execution_count": 10,
   "metadata": {},
   "outputs": [
    {
     "data": {
      "text/plain": [
       "133.33333333333334"
      ]
     },
     "execution_count": 10,
     "metadata": {},
     "output_type": "execute_result"
    }
   ],
   "source": [
    "# Exercise 46: Defining the Function with Positional and Keyword Arguments\n",
    "def convert_usd_to_aud(amount, rate = 0.75):\n",
    "    return amount / rate\n",
    "convert_usd_to_aud(100)"
   ]
  },
  {
   "cell_type": "code",
   "execution_count": 15,
   "metadata": {},
   "outputs": [
    {
     "name": "stdout",
     "output_type": "stream",
     "text": [
      "15\n",
      "Personal Details\n",
      "name : Ratan\n",
      "country : India\n",
      "age : 23\n"
     ]
    }
   ],
   "source": [
    "# Exercise 47: Using **kwargs\n",
    "def sum_of_numbers(*args):\n",
    "    total = 0\n",
    "    for number in args:\n",
    "        total += number\n",
    "    return total\n",
    "\n",
    "def person_details(**kwargs):\n",
    "    print(\"Personal Details\")\n",
    "    for key, value in kwargs.items():\n",
    "        print(\"{} : {}\".format(key,value))\n",
    "        \n",
    "print(sum_of_numbers(1,3,2,5,4))\n",
    "person_details(name = \"Ratan\", country = \"India\", age = 23)"
   ]
  },
  {
   "cell_type": "code",
   "execution_count": 22,
   "metadata": {},
   "outputs": [
    {
     "ename": "TypeError",
     "evalue": "format_customer() got an unexpected keyword argument 'location'",
     "output_type": "error",
     "traceback": [
      "\u001b[1;31m---------------------------------------------------------------------------\u001b[0m",
      "\u001b[1;31mTypeError\u001b[0m                                 Traceback (most recent call last)",
      "\u001b[1;32m~\\AppData\\Local\\Temp/ipykernel_2824/3080239513.py\u001b[0m in \u001b[0;36m<module>\u001b[1;34m\u001b[0m\n\u001b[0;32m      1\u001b[0m \u001b[1;31m# Activity 9: Formatting Customer Names\u001b[0m\u001b[1;33m\u001b[0m\u001b[1;33m\u001b[0m\u001b[1;33m\u001b[0m\u001b[0m\n\u001b[0;32m      2\u001b[0m \u001b[1;32mfrom\u001b[0m \u001b[0mcustomer\u001b[0m \u001b[1;32mimport\u001b[0m \u001b[0mformat_customer\u001b[0m\u001b[1;33m\u001b[0m\u001b[1;33m\u001b[0m\u001b[0m\n\u001b[1;32m----> 3\u001b[1;33m \u001b[0mformat_customer\u001b[0m\u001b[1;33m(\u001b[0m\u001b[1;34m'John'\u001b[0m\u001b[1;33m,\u001b[0m \u001b[1;34m'Smith'\u001b[0m\u001b[1;33m,\u001b[0m \u001b[0mlocation\u001b[0m\u001b[1;33m=\u001b[0m\u001b[1;34m'California'\u001b[0m\u001b[1;33m)\u001b[0m\u001b[1;33m\u001b[0m\u001b[1;33m\u001b[0m\u001b[0m\n\u001b[0m",
      "\u001b[1;31mTypeError\u001b[0m: format_customer() got an unexpected keyword argument 'location'"
     ]
    }
   ],
   "source": [
    "# Activity 9: Formatting Customer Names\n",
    "from customer import format_customer\n",
    "format_customer('John', 'Smith', location='California')"
   ]
  }
 ],
 "metadata": {
  "interpreter": {
   "hash": "1322b7a2af51d0ab1cf2ab9f6e87c6f4e00c0af0c7a8e1a056b7fa9a4635e6d9"
  },
  "kernelspec": {
   "display_name": "Python 3.9.0 64-bit",
   "language": "python",
   "name": "python3"
  },
  "language_info": {
   "codemirror_mode": {
    "name": "ipython",
    "version": 3
   },
   "file_extension": ".py",
   "mimetype": "text/x-python",
   "name": "python",
   "nbconvert_exporter": "python",
   "pygments_lexer": "ipython3",
   "version": "3.9.0"
  },
  "orig_nbformat": 4
 },
 "nbformat": 4,
 "nbformat_minor": 2
}
