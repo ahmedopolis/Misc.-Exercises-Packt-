{
 "cells": [
  {
   "cell_type": "code",
   "execution_count": 1,
   "metadata": {},
   "outputs": [
    {
     "name": "stdout",
     "output_type": "stream",
     "text": [
      "39921960\n"
     ]
    }
   ],
   "source": [
    "# Exercise 3.4: Writing and Executing out First Script\n",
    "import math\n",
    "numbers = [5, 7, 11]\n",
    "result = sum([math.factorial(n) for n in numbers])\n",
    "print(result)"
   ]
  },
  {
   "cell_type": "code",
   "execution_count": 2,
   "metadata": {},
   "outputs": [
    {
     "data": {
      "text/plain": [
       "[120, 5040, 39916800]"
      ]
     },
     "execution_count": 2,
     "metadata": {},
     "output_type": "execute_result"
    }
   ],
   "source": [
    "# Exercise 35: Writing and Importing our First Module\n",
    "from my_module import compute\n",
    "compute([5, 7, 11])"
   ]
  },
  {
   "cell_type": "code",
   "execution_count": 3,
   "metadata": {},
   "outputs": [
    {
     "data": {
      "text/plain": [
       "' This script computes the sum of the factorial of a list of numbers. '"
      ]
     },
     "execution_count": 3,
     "metadata": {},
     "output_type": "execute_result"
    }
   ],
   "source": [
    "# Exercise 36: Adding a Docstring to my_module.py\n",
    "import my_module\n",
    "#help(my_module)\n",
    "my_module.__doc__\n"
   ]
  },
  {
   "cell_type": "code",
   "execution_count": 4,
   "metadata": {},
   "outputs": [
    {
     "name": "stdout",
     "output_type": "stream",
     "text": [
      "7\n"
     ]
    }
   ],
   "source": [
    "# Exercise 38: The Maximum Number\n",
    "l = [4, 2, 7, 3]\n",
    "maximum = 0 \n",
    "for number in l:\n",
    "    if number > maximum:\n",
    "        maximum = number\n",
    "print(maximum)"
   ]
  },
  {
   "cell_type": "code",
   "execution_count": 5,
   "metadata": {},
   "outputs": [
    {
     "name": "stdout",
     "output_type": "stream",
     "text": [
      "[1, 2, 3, 5, 8]\n"
     ]
    }
   ],
   "source": [
    "# Exercise 39: Using Bubble Sort in Python\n",
    "l = [5, 8, 1, 3, 2]\n",
    "still_swapping = True\n",
    "while still_swapping:\n",
    "    still_swapping = False\n",
    "    for i in range(len(l) - 1):\n",
    "        if l[i] > l[i+1]:\n",
    "            l[i], l[i+1] = l[i+1], l[i]\n",
    "            still_swapping = True\n",
    "print(l)"
   ]
  },
  {
   "cell_type": "code",
   "execution_count": 6,
   "metadata": {},
   "outputs": [
    {
     "name": "stdout",
     "output_type": "stream",
     "text": [
      "1\n"
     ]
    }
   ],
   "source": [
    "# Exercise 40: Linear Search in Python\n",
    "l = [5, 8, 1, 3, 2]\n",
    "search_for = 8\n",
    "result = -1\n",
    "for i in range(len(l)):\n",
    "    if search_for == l[i]:\n",
    "        result = i\n",
    "        break\n",
    "print(result)"
   ]
  },
  {
   "cell_type": "code",
   "execution_count": 7,
   "metadata": {},
   "outputs": [
    {
     "name": "stdout",
     "output_type": "stream",
     "text": [
      "True\n",
      "4\n"
     ]
    }
   ],
   "source": [
    "# Exercise 41: Binary Search in Python\n",
    "l = [2, 3, 5, 8, 11, 12, 18]\n",
    "search_for = 11\n",
    "slice_start = 0\n",
    "slice_end = len(l) - 1 \n",
    "found = False\n",
    "while slice_start <= slice_end and not found:\n",
    "    location = (slice_start + slice_end) // 2\n",
    "    if l[location] == search_for:\n",
    "        found = True\n",
    "    else:\n",
    "        if search_for < l[location]:\n",
    "            slice_end = location - 1\n",
    "        else:\n",
    "            slice_start = location + 1\n",
    "print(found)\n",
    "print(location)"
   ]
  },
  {
   "cell_type": "code",
   "execution_count": 8,
   "metadata": {},
   "outputs": [
    {
     "name": "stdout",
     "output_type": "stream",
     "text": [
      "2\n",
      "List was too small\n"
     ]
    }
   ],
   "source": [
    "# Exercise 42: Defining and Calling the Function in Shell\n",
    "def get_second_element(mylist):\n",
    "    if len(mylist) > 1:\n",
    "        return mylist[1]\n",
    "    else:\n",
    "        return 'List was too small'\n",
    "print(get_second_element([1, 2, 3]))\n",
    "print(get_second_element([1]))"
   ]
  },
  {
   "cell_type": "code",
   "execution_count": 9,
   "metadata": {},
   "outputs": [
    {
     "data": {
      "text/plain": [
       "-6"
      ]
     },
     "execution_count": 9,
     "metadata": {},
     "output_type": "execute_result"
    }
   ],
   "source": [
    "# Exercise 43: Defining and Calling the Function in Python Script\n",
    "from multiply import list_product\n",
    "list_product([-1, 2, 3])"
   ]
  },
  {
   "cell_type": "code",
   "execution_count": 10,
   "metadata": {},
   "outputs": [
    {
     "data": {
      "text/plain": [
       "'google.com'"
      ]
     },
     "execution_count": 10,
     "metadata": {},
     "output_type": "execute_result"
    }
   ],
   "source": [
    "# Exercise 45: Defining the Function with Keyword Arguments\n",
    "def add_suffix(suffix='.com'):\n",
    "    return 'google' + suffix\n",
    "add_suffix()"
   ]
  },
  {
   "cell_type": "code",
   "execution_count": 11,
   "metadata": {},
   "outputs": [
    {
     "data": {
      "text/plain": [
       "133.33333333333334"
      ]
     },
     "execution_count": 11,
     "metadata": {},
     "output_type": "execute_result"
    }
   ],
   "source": [
    "# Exercise 46: Defining the Function with Positional and Keyword Arguments\n",
    "def convert_usd_to_aud(amount, rate = 0.75):\n",
    "    return amount / rate\n",
    "convert_usd_to_aud(100)"
   ]
  },
  {
   "cell_type": "code",
   "execution_count": 12,
   "metadata": {},
   "outputs": [
    {
     "name": "stdout",
     "output_type": "stream",
     "text": [
      "15\n",
      "Personal Details\n",
      "name : Ratan\n",
      "country : India\n",
      "age : 23\n"
     ]
    }
   ],
   "source": [
    "# Exercise 47: Using **kwargs\n",
    "def sum_of_numbers(*args):\n",
    "    total = 0\n",
    "    for number in args:\n",
    "        total += number\n",
    "    return total\n",
    "\n",
    "def person_details(**kwargs):\n",
    "    print(\"Personal Details\")\n",
    "    for key, value in kwargs.items():\n",
    "        print(\"{} : {}\".format(key,value))\n",
    "        \n",
    "print(sum_of_numbers(1,3,2,5,4))\n",
    "person_details(name = \"Ratan\", country = \"India\", age = 23)"
   ]
  },
  {
   "cell_type": "code",
   "execution_count": 13,
   "metadata": {},
   "outputs": [
    {
     "name": "stdout",
     "output_type": "stream",
     "text": [
      "John Smith California\n",
      "Mareike Schmidt\n"
     ]
    }
   ],
   "source": [
    "from customer import format_customer\n",
    "print(format_customer('John', 'Smith', location='California'))\n",
    "print(format_customer('Mareike', 'Schmidt'))"
   ]
  },
  {
   "cell_type": "code",
   "execution_count": 14,
   "metadata": {},
   "outputs": [
    {
     "data": {
      "text/plain": [
       "5050"
      ]
     },
     "execution_count": 14,
     "metadata": {},
     "output_type": "execute_result"
    }
   ],
   "source": [
    "# Exercise 48: A Simple Function with a For Loop\n",
    "def sum_first_n(n):\n",
    "    result = 0\n",
    "    for i in range(n):\n",
    "        result += i + 1\n",
    "    return result\n",
    "sum_first_n(100)"
   ]
  },
  {
   "cell_type": "code",
   "execution_count": 15,
   "metadata": {},
   "outputs": [
    {
     "name": "stdout",
     "output_type": "stream",
     "text": [
      "True\n",
      "False\n"
     ]
    }
   ],
   "source": [
    "# Exercise 49: Exiting the Function During the For Loop\n",
    "def is_prime(x):\n",
    "    for i in range(2, x):\n",
    "        if (x % i) == 0:\n",
    "            return False\n",
    "    return True\n",
    "print(is_prime(7))\n",
    "print(is_prime(1000))"
   ]
  },
  {
   "cell_type": "code",
   "execution_count": 16,
   "metadata": {},
   "outputs": [
    {
     "name": "stdout",
     "output_type": "stream",
     "text": [
      "2\n",
      "55\n"
     ]
    }
   ],
   "source": [
    "# Activity 10: The Fibonacci Function with an Iteration\n",
    "from fibonacci import fibonacci_iterative\n",
    "print(fibonacci_iterative(3))\n",
    "print(fibonacci_iterative(10))"
   ]
  },
  {
   "cell_type": "code",
   "execution_count": 17,
   "metadata": {},
   "outputs": [
    {
     "name": "stdout",
     "output_type": "stream",
     "text": [
      "6\n",
      "7\n",
      "8\n"
     ]
    },
    {
     "data": {
      "text/plain": [
       "\"I'm bored\""
      ]
     },
     "execution_count": 17,
     "metadata": {},
     "output_type": "execute_result"
    }
   ],
   "source": [
    "# Recursive Functions\n",
    "def print_the_next_number(start):\n",
    "    print(start + 1)\n",
    "    if start >= 7:\n",
    "        return \"I'm bored\"\n",
    "    return print_the_next_number(start + 1)\n",
    "print_the_next_number(5)"
   ]
  },
  {
   "cell_type": "code",
   "execution_count": 18,
   "metadata": {},
   "outputs": [
    {
     "name": "stdout",
     "output_type": "stream",
     "text": [
      "3\n",
      "2\n",
      "1\n",
      "liftoff!\n"
     ]
    }
   ],
   "source": [
    "# Exercise 50: Recursive Countdown\n",
    "def countdown(n):\n",
    "    if n == 0:\n",
    "        print('liftoff!')\n",
    "    else:\n",
    "        print(n)\n",
    "        return countdown(n - 1)\n",
    "countdown(3)"
   ]
  },
  {
   "cell_type": "code",
   "execution_count": 19,
   "metadata": {},
   "outputs": [
    {
     "name": "stdout",
     "output_type": "stream",
     "text": [
      "1\n",
      "2\n",
      "6\n",
      "24\n",
      "120\n",
      "120\n",
      "120\n"
     ]
    }
   ],
   "source": [
    "# Exercise 51: Factorials with Iteration and Recursion\n",
    "def factorial_iterative(n):\n",
    "    result = 1\n",
    "    for i in range(n):\n",
    "        result *= i + 1\n",
    "        print(result)\n",
    "    return result\n",
    "def factorial_recursive(n):\n",
    "    if n == 1 or n == 0:\n",
    "        return 1\n",
    "    else:\n",
    "        return n * factorial_recursive(n - 1)    \n",
    "print(factorial_iterative(5))\n",
    "print(factorial_recursive(5))"
   ]
  },
  {
   "cell_type": "code",
   "execution_count": 20,
   "metadata": {},
   "outputs": [
    {
     "name": "stdout",
     "output_type": "stream",
     "text": [
      "10946\n",
      "10946\n"
     ]
    }
   ],
   "source": [
    "# Activity 11: The Fibonacci Function with Recursion\n",
    "from fibonacci import fibonacci_recursive, fibonacci_iterative\n",
    "print(fibonacci_recursive(21))\n",
    "print(fibonacci_iterative(21))"
   ]
  },
  {
   "cell_type": "code",
   "execution_count": 21,
   "metadata": {},
   "outputs": [
    {
     "name": "stdout",
     "output_type": "stream",
     "text": [
      "{}\n",
      "3\n",
      "Stopping sum at 2 because we have previously computed it\n",
      "6\n",
      "{2: 3, 3: 6}\n"
     ]
    }
   ],
   "source": [
    "# Exercise 52: Summing Integers\n",
    "stored_results = {}\n",
    "def sum_to_n(n):\n",
    "    result = 0\n",
    "    for i in reversed(range(n)):\n",
    "        if i + 1 in stored_results:\n",
    "            print('Stopping sum at %s because we have previously computed it' % str(i + 1))\n",
    "            result += stored_results[i + 1]\n",
    "            break\n",
    "        else:\n",
    "            result += i + 1\n",
    "    stored_results[n] = result\n",
    "    return result\n",
    "print(stored_results)\n",
    "print(sum_to_n(2))\n",
    "print(sum_to_n(3))\n",
    "print(stored_results)"
   ]
  },
  {
   "cell_type": "code",
   "execution_count": 22,
   "metadata": {},
   "outputs": [
    {
     "name": "stdout",
     "output_type": "stream",
     "text": [
      "8.499999999855845e-06 seconds\n",
      "Stopping sum at 15 because we have previously computed it\n",
      "3.1200000000009e-05 seconds\n"
     ]
    },
    {
     "data": {
      "text/plain": [
       "210"
      ]
     },
     "execution_count": 22,
     "metadata": {},
     "output_type": "execute_result"
    }
   ],
   "source": [
    "from dynamic import sum_to_n\n",
    "sum_to_n(15)\n",
    "sum_to_n(20)"
   ]
  },
  {
   "cell_type": "code",
   "execution_count": 23,
   "metadata": {},
   "outputs": [
    {
     "data": {
      "text/plain": [
       "354224848179261915075"
      ]
     },
     "execution_count": 23,
     "metadata": {},
     "output_type": "execute_result"
    }
   ],
   "source": [
    "# Activity 12: The Fibonacci Function with Dynamic Programming\n",
    "from fibonacci import fibonacci_dynamic\n",
    "fibonacci_dynamic(100)"
   ]
  },
  {
   "cell_type": "code",
   "execution_count": 24,
   "metadata": {},
   "outputs": [
    {
     "data": {
      "text/plain": [
       "12.9"
      ]
     },
     "execution_count": 24,
     "metadata": {},
     "output_type": "execute_result"
    }
   ],
   "source": [
    "# Exercise 54: Helper Currency Conversion\n",
    "def convert_currency(amount, rate, margin=0):\n",
    "     return amount * rate * (1 + margin)\n",
    "\n",
    "def compute_usd_total(amount_in_aud=0, amount_in_gbp=0):\n",
    "    total = 0\n",
    "    total += convert_currency(amount_in_aud, 0.78)\n",
    "    total += convert_currency(amount_in_gbp, 1.29)\n",
    "    return total\n",
    "\n",
    "compute_usd_total(amount_in_gbp=10)"
   ]
  },
  {
   "cell_type": "code",
   "execution_count": 26,
   "metadata": {},
   "outputs": [
    {
     "data": {
      "text/plain": [
       "'cat'"
      ]
     },
     "execution_count": 26,
     "metadata": {},
     "output_type": "execute_result"
    }
   ],
   "source": [
    "# Exercise 55: The First Item in a List\n",
    "first_item = lambda my_list: my_list[0]\n",
    "first_item(['cat', 'dog', 'mouse'])"
   ]
  },
  {
   "cell_type": "code",
   "execution_count": 27,
   "metadata": {},
   "outputs": [
    {
     "data": {
      "text/plain": [
       "[0.04742587317756678,\n",
       " 0.0066928509242848554,\n",
       " 0.7310585786300049,\n",
       " 0.9820137900379085]"
      ]
     },
     "execution_count": 27,
     "metadata": {},
     "output_type": "execute_result"
    }
   ],
   "source": [
    "# Exercise 56: Mapping with a Logistic Transform\n",
    "import math\n",
    "nums = [-3, -5, 1, 4] \n",
    "list(map(lambda x: 1 / (1 + math.exp(-x)), nums))"
   ]
  },
  {
   "cell_type": "code",
   "execution_count": 29,
   "metadata": {},
   "outputs": [
    {
     "data": {
      "text/plain": [
       "214216"
      ]
     },
     "execution_count": 29,
     "metadata": {},
     "output_type": "execute_result"
    }
   ],
   "source": [
    "# Exercise 57: Using the Filter Lambda\n",
    "nums = list(range(1000))\n",
    "filtered = filter(lambda x: x % 3 == 0 or x % 7 == 0, nums)\n",
    "sum(filtered)"
   ]
  },
  {
   "cell_type": "code",
   "execution_count": null,
   "metadata": {},
   "outputs": [],
   "source": []
  }
 ],
 "metadata": {
  "interpreter": {
   "hash": "1322b7a2af51d0ab1cf2ab9f6e87c6f4e00c0af0c7a8e1a056b7fa9a4635e6d9"
  },
  "kernelspec": {
   "display_name": "Python 3.9.0 64-bit",
   "language": "python",
   "name": "python3"
  },
  "language_info": {
   "codemirror_mode": {
    "name": "ipython",
    "version": 3
   },
   "file_extension": ".py",
   "mimetype": "text/x-python",
   "name": "python",
   "nbconvert_exporter": "python",
   "pygments_lexer": "ipython3",
   "version": "3.9.0"
  },
  "orig_nbformat": 4
 },
 "nbformat": 4,
 "nbformat_minor": 2
}
